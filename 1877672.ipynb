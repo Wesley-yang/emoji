{
 "cells": [
  {
   "cell_type": "markdown",
   "metadata": {
    "collapsed": false
   },
   "source": [
    "# 一：Emoji起源\n",
    "emoji就是表情符号，来自日语词汇“絵文字”（假名为“えもじ”，读音即emoji）。\n",
    "emoji的创造者是日本人栗田穰崇(Shigetaka Kurita)，他将目光投向儿时的各种元素以获取灵感，如日本漫画和日本汉字等。“日本漫画中有许多不同的符号。漫画家会画出一些表情，表现一个人满头大汗或是迸发出一个想法时头上出现一个灯泡。”同时，从日本汉字中他获得了一种能力，用简单的字符来表达“秘密”和“爱”等抽象概念。\n",
    "2014年8月，牛津词典在线版（Oxford Dictionary Online）把“Emoji”添加到新词汇中，这也意味着它已经变成一个正式词汇。\n",
    "# 二：Emoji影响\n",
    "全球约有90%的在线用户频繁使用emoji，每天有60亿个emoji表情符号被传送。不夸张地说，emoji已成为日本最大的出口商品之一。人们甚至也将emoji当作一门艺术。2016年，纽约现代艺术博物馆将emoji列为永久收藏，其中包括176个诞生于1999年的最初版本emoji表情。"
   ]
  },
  {
   "cell_type": "markdown",
   "metadata": {
    "collapsed": false
   },
   "source": [
    "# 三：效果图\n",
    "![](https://ai-studio-static-online.cdn.bcebos.com/25088bbe3eef4a548e4ff505207f0952f7b4a44a06704f18891c982f81e8f67a)\n",
    "# 四：实现思路\n",
    "![](https://ai-studio-static-online.cdn.bcebos.com/20e49a2bdf48405fb97dc3865168415c9a6962085f2147f8bf61e0b580533d22)\n"
   ]
  },
  {
   "cell_type": "code",
   "execution_count": null,
   "metadata": {
    "collapsed": false
   },
   "outputs": [],
   "source": [
    "# 安装paddlehub\r\n",
    "# pip install --upgrade paddlehub -i https://mirror.baidu.com/pypi/simple\r\n",
    "# 使用lac词法分析模型，对用户输入的原话进行分词\r\n",
    "import paddlehub as hub\r\n",
    "lac = hub.Module(name=\"lac\")\r\n",
    "text = [\"忙活大半个晚上写的东西一个误操作给删了\"]\r\n",
    "results = lac.cut(text=text, use_gpu=False, batch_size=1, return_tag=True)\r\n",
    "print(results[0]['word'])\r\n",
    "# ['忙活', '大半个', '晚上', '写', '的', '东西', '一个', '误', '操作', '给', '删', '了']\r\n",
    "\r\n",
    "# 准备emoji词典见附录data文件夹下\r\n",
    "\r\n",
    "# 对分词后的结果进行分词拼音检索\r\n",
    "import pinyin\r\n",
    "text = ['忙活', '大半个', '晚上', '写', '的', '东西', '一个', '误', '操作', '给', '删', '了']\r\n",
    "# 分词拼音检索\r\n",
    "for t in text:\r\n",
    "    print(pinyin.get(t, format='strip'), end=' ')\r\n",
    "    # manghuo dabange wanshang xie de dongxi yige wu caozuo gei shan le \r\n",
    "    # 单词拼音检索\r\n",
    "    if len(t) > 0:\r\n",
    "        for t_children in t:\r\n",
    "            # print(t_children)\r\n",
    "            print(pinyin.get(t_children, format='strip'), end=' ')\r\n",
    "            # mang huo da ban ge wan shang xie de dong xi yi ge wu cao zuo gei shan le\r\n",
    "\r\n",
    "\r\n",
    "# 对分词后的结果在词典里进行检索\r\n",
    "def retrieve_emoji_dict(text):\r\n",
    "    for word in text:\r\n",
    "        word = word.strip()\r\n",
    "        if word in emoji_dict.keys():\r\n",
    "            text_emoji += emoji_dict[word]\r\n",
    "        else:\r\n",
    "            if len(word) > 0:#不止一个字\r\n",
    "                for character in word:\r\n",
    "                    if character in emoji_dict.keys():\r\n",
    "                        text_emoji += emoji_dict[character]\r\n",
    "                    else:\r\n",
    "                        text_emoji += character\r\n",
    "            else: # 一个字\r\n",
    "                text_emoji += word\r\n",
    "    return text_emoji\r\n"
   ]
  },
  {
   "cell_type": "markdown",
   "metadata": {
    "collapsed": false
   },
   "source": [
    "# 五：模型概述\n",
    "> Lexical Analysis of Chinese，简称 LAC，是一个联合的词法分析模型，能整体性地完成中文分词、词性标注、专名识别任务。在百度自建数据集上评测，LAC效果：Precision=88.0%，Recall=88.7%，F1-Score=88.4%。该PaddleHub Module支持预测。\n",
    "\n"
   ]
  },
  {
   "cell_type": "markdown",
   "metadata": {
    "collapsed": false
   },
   "source": [
    "# 六：总结+改进完善方向\n",
    "* > emoji词典原始数据较少(600多个)，往往返回的emoji表情不是很准确\n",
    "* > 目前emoji差不多有1300多个[https://emojipedia.org/](http://)\n",
    "* > 后续增加对网络流行词语和英文进行添加"
   ]
  },
  {
   "cell_type": "markdown",
   "metadata": {
    "collapsed": false
   },
   "source": [
    "# 七：飞桨使用体验\n",
    "* 接触飞桨时间也不长就几天，就拿项目中对于分词这一模型来说还是挺好的，然后就是试了一下关于图像和视频的模型发现在自己的电脑上运行还是有点吃力的\n",
    "* 建议接触的同学多看看文档(这是个好东西)然后多实践就OK了"
   ]
  },
  {
   "cell_type": "markdown",
   "metadata": {
    "collapsed": false
   },
   "source": [
    "# 八：参考资料\n",
    "* emojipedia[https://emojipedia.org/](http://)\n",
    "* emoji百度百科[https://baike.baidu.com/item/emoji/8154456?fr=aladdin](http://)\n",
    "# 九：致谢\n",
    "* 飞桨[https://www.paddlepaddle.org.cn/](http://)\n",
    "* wechaty[https://wechaty.js.org/](http://)"
   ]
  }
 ],
 "metadata": {
  "kernelspec": {
   "display_name": "PaddlePaddle 2.0.0b0 (Python 3.5)",
   "language": "python",
   "name": "py35-paddle1.2.0"
  },
  "language_info": {
   "codemirror_mode": {
    "name": "ipython",
    "version": 3
   },
   "file_extension": ".py",
   "mimetype": "text/x-python",
   "name": "python",
   "nbconvert_exporter": "python",
   "pygments_lexer": "ipython3",
   "version": "3.7.4"
  }
 },
 "nbformat": 4,
 "nbformat_minor": 1
}
